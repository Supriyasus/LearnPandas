{
 "cells": [
  {
   "cell_type": "code",
   "execution_count": 1,
   "id": "initial_id",
   "metadata": {
    "collapsed": true,
    "ExecuteTime": {
     "end_time": "2024-02-25T16:20:54.052598700Z",
     "start_time": "2024-02-25T16:20:49.315504600Z"
    }
   },
   "outputs": [
    {
     "data": {
      "text/plain": "                       ID                    Name  Popularity  \\\n0  4nc6XiUze2Yh7wFueGOPv7  Chaleya (From \"Jawan\")        83.0   \n1                     NaN          Rumah Ke Rumah        80.0   \n2  7J0isBrUxhIYZVdrBOOlIh                  Cincin        78.0   \n3  2dIBMHByUGcNPzmYBJ6OAj                     NaN        78.0   \n4  5drW6PGRxkE6MxttzVLNk5              Secukupnya         NaN   \n\n                                             Artists  \n0  Anirudh Ravichander, Arijit Singh, Shilpa Rao,...  \n1                                             Hindia  \n2                                             Hindia  \n3                                             Hindia  \n4                                             Hindia  ",
      "text/html": "<div>\n<style scoped>\n    .dataframe tbody tr th:only-of-type {\n        vertical-align: middle;\n    }\n\n    .dataframe tbody tr th {\n        vertical-align: top;\n    }\n\n    .dataframe thead th {\n        text-align: right;\n    }\n</style>\n<table border=\"1\" class=\"dataframe\">\n  <thead>\n    <tr style=\"text-align: right;\">\n      <th></th>\n      <th>ID</th>\n      <th>Name</th>\n      <th>Popularity</th>\n      <th>Artists</th>\n    </tr>\n  </thead>\n  <tbody>\n    <tr>\n      <th>0</th>\n      <td>4nc6XiUze2Yh7wFueGOPv7</td>\n      <td>Chaleya (From \"Jawan\")</td>\n      <td>83.0</td>\n      <td>Anirudh Ravichander, Arijit Singh, Shilpa Rao,...</td>\n    </tr>\n    <tr>\n      <th>1</th>\n      <td>NaN</td>\n      <td>Rumah Ke Rumah</td>\n      <td>80.0</td>\n      <td>Hindia</td>\n    </tr>\n    <tr>\n      <th>2</th>\n      <td>7J0isBrUxhIYZVdrBOOlIh</td>\n      <td>Cincin</td>\n      <td>78.0</td>\n      <td>Hindia</td>\n    </tr>\n    <tr>\n      <th>3</th>\n      <td>2dIBMHByUGcNPzmYBJ6OAj</td>\n      <td>NaN</td>\n      <td>78.0</td>\n      <td>Hindia</td>\n    </tr>\n    <tr>\n      <th>4</th>\n      <td>5drW6PGRxkE6MxttzVLNk5</td>\n      <td>Secukupnya</td>\n      <td>NaN</td>\n      <td>Hindia</td>\n    </tr>\n  </tbody>\n</table>\n</div>"
     },
     "execution_count": 1,
     "metadata": {},
     "output_type": "execute_result"
    }
   ],
   "source": [
    "import pandas as pd\n",
    "df = pd.read_csv(\"../Dataset/1000_popular_hindi_spotify.csv\")\n",
    "df.head()   "
   ]
  },
  {
   "cell_type": "code",
   "outputs": [],
   "source": [
    "x = df.head(15)\n",
    "print(x)"
   ],
   "metadata": {
    "collapsed": false
   },
   "id": "a56a531fd89a5ec2"
  },
  {
   "cell_type": "code",
   "outputs": [],
   "source": [],
   "metadata": {
    "collapsed": false
   },
   "id": "47f9d1fdcb704fcf"
  },
  {
   "cell_type": "code",
   "outputs": [],
   "source": [],
   "metadata": {
    "collapsed": false
   },
   "id": "6e36616336c8ea0c"
  },
  {
   "cell_type": "code",
   "outputs": [],
   "source": [],
   "metadata": {
    "collapsed": false
   },
   "id": "5b9add938c2c9196"
  },
  {
   "cell_type": "code",
   "outputs": [],
   "source": [],
   "metadata": {
    "collapsed": false
   },
   "id": "1103f5c195ef0028"
  },
  {
   "cell_type": "code",
   "outputs": [],
   "source": [],
   "metadata": {
    "collapsed": false
   },
   "id": "f3beea5afe1e8acc"
  }
 ],
 "metadata": {
  "kernelspec": {
   "display_name": "Python 3",
   "language": "python",
   "name": "python3"
  },
  "language_info": {
   "codemirror_mode": {
    "name": "ipython",
    "version": 2
   },
   "file_extension": ".py",
   "mimetype": "text/x-python",
   "name": "python",
   "nbconvert_exporter": "python",
   "pygments_lexer": "ipython2",
   "version": "2.7.6"
  }
 },
 "nbformat": 4,
 "nbformat_minor": 5
}
